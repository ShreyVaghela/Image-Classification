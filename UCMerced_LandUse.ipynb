{
  "nbformat": 4,
  "nbformat_minor": 0,
  "metadata": {
    "colab": {
      "name": "UCMerced_LandUse.ipynb",
      "version": "0.3.2",
      "provenance": [],
      "collapsed_sections": [],
      "toc_visible": true
    }
  },
  "cells": [
    {
      "metadata": {
        "id": "LzimrGRljT1k",
        "colab_type": "code",
        "colab": {}
      },
      "cell_type": "code",
      "source": [
        "'''CODE FOR ACCESING FILES FROM GOOGLE DRIVE IN COLAB'''\n",
        "!apt-get install -y -qq software-properties-common python-software-properties module-init-tools\n",
        "!add-apt-repository -y ppa:alessandro-strada/ppa 2>&1 > /dev/null\n",
        "!apt-get update -qq 2>&1 > /dev/null\n",
        "!apt-get -y install -qq google-drive-ocamlfuse fuse\n",
        "\n",
        "from google.colab import auth\n",
        "auth.authenticate_user()\n",
        "from oauth2client.client import GoogleCredentials\n",
        "creds = GoogleCredentials.get_application_default()\n",
        "import getpass\n",
        "\n",
        "!google-drive-ocamlfuse -headless -id={creds.client_id} -secret={creds.client_secret} < /dev/null 2>&1 | grep URL\n",
        "vcode = getpass.getpass()\n",
        "!echo {vcode} | google-drive-ocamlfuse -headless -id={creds.client_id} -secret={creds.client_secret}"
      ],
      "execution_count": 0,
      "outputs": []
    },
    {
      "metadata": {
        "id": "BdDY43BLjtLI",
        "colab_type": "code",
        "colab": {}
      },
      "cell_type": "code",
      "source": [
        "'''MAKING DRIVE DIRECTORY'''\n",
        "!mkdir -p drive\n",
        "!google-drive-ocamlfuse drive"
      ],
      "execution_count": 0,
      "outputs": []
    },
    {
      "metadata": {
        "id": "-9M70R5fkNKz",
        "colab_type": "code",
        "colab": {}
      },
      "cell_type": "code",
      "source": [
        "from PIL import Image #import Python Image Library\n",
        "import numpy as np\n",
        "import os\n",
        "import glob\n",
        "import re\n",
        "import keras\n",
        "from keras.models import Sequential,load_model\n",
        "from keras.layers import Dense, Dropout, Activation, Flatten, Conv2D, MaxPooling2D\n",
        "from keras.applications import VGG16\n",
        "from keras.applications.vgg16 import preprocess_input\n",
        "from keras.utils import np_utils\n",
        "from keras import backend as K\n",
        "import matplotlib.pyplot as plt\n",
        "import random"
      ],
      "execution_count": 0,
      "outputs": []
    },
    {
      "metadata": {
        "id": "-oUwFPmxkZ4t",
        "colab_type": "code",
        "colab": {}
      },
      "cell_type": "code",
      "source": [
        "#path = os.path.abspath('.cnn.py') #absolute path of program\n",
        "#path = re.sub('[a-zA-Z\\s._]+$', '', path) #remove unintended file\n",
        "#dirs = os.listdir(path+'UCMerced_LandUse/Images/') #list directory in Land Use Images folder\n",
        "dirs = os.listdir('drive/Datasets/UCMerced_LandUse/Images/')\n",
        "label = 0\n",
        "\n",
        "#print(dirs)\n",
        "\n",
        "x_test=[]\n",
        "y_test=[]\n",
        "x_train=[]\n",
        "y_train=[]\n",
        "\n"
      ],
      "execution_count": 0,
      "outputs": []
    },
    {
      "metadata": {
        "id": "0h8lcBO4ljb-",
        "colab_type": "code",
        "colab": {}
      },
      "cell_type": "code",
      "source": [
        "for i in dirs: #loop all directory\n",
        "\tcount = 0\n",
        "\tfor pic in glob.glob('drive/Datasets/UCMerced_LandUse/Images/'+i+'/*.tif'): #loop all picture in directory\n",
        "\t\tim = Image.open(pic) #open image\n",
        "\t\tim = np.array(im)\n",
        "\t\tif(im.shape[0]==256) and (im.shape[1] ==256) and count <90 : #get only 90 data with image shape only 256x256\n",
        "\t\t\t'''r=im[:,:,0]\n",
        "\t\t\tg=im[:,:,1]\n",
        "\t\t\tb=im[:,:,2]'''\n",
        "\t\t\tif(count<5): # 5 data in beginning set as test data\n",
        "\t\t\t\tx_test.append(im) #append image into x_test\n",
        "\t\t\t\ty_test.append([label]) #append label in y_test\n",
        "\t\t\telse: #after obtaining 5 data for testing, remaining data will be used as training\n",
        "\t\t\t\tx_train.append(im) #append image into x_train\n",
        "\t\t\t\ty_train.append([label]) #append label in y_train\n",
        "\t\t\tcount = count + 1 #count image\n",
        "\tlabel = label + 1 #after finishing in the first folder, label will be incremented 0,1..,20\n",
        "x_train=np.array(x_train)\n",
        "y_train=np.array(y_train)\n",
        "x_test=np.array(x_test)\n",
        "y_test=np.array(y_test) #setting x_train,y_train,x_test,y_test as numpy array\n",
        "\n",
        "\n",
        "\n",
        "\n",
        "x_train = x_train.astype('float32') #set x_train data type as float32\n",
        "x_test = x_test.astype('float32') #set x_test data type as float32\n",
        "\n",
        "x_train /= 255 #change x_train value between 0 - 1\n",
        "x_test /= 255 #change x_test value between 0 - 1\n",
        "\n",
        "y_train = keras.utils.to_categorical(y_train, 21) #change label to binary / categorical: [1 0 0 0] = 0, [0 1 0 0] = 1, so on\n",
        "y_test = keras.utils.to_categorical(y_test, 21) #change label to binary / categorical\n",
        "\n",
        "x_train=np.reshape(x_train,(1785,256,256,3))\n",
        "x_test=np.reshape(x_test,(105,256,256,3))\n",
        "x_train=preprocess_input(x_train)\n",
        "x_test=preprocess_input(x_test)\n",
        "\n"
      ],
      "execution_count": 0,
      "outputs": []
    },
    {
      "metadata": {
        "id": "tVmE1Ire_sjL",
        "colab_type": "code",
        "colab": {}
      },
      "cell_type": "code",
      "source": [
        "vgg_conv=VGG16(weights='imagenet',include_top=False,input_shape=(256,256,3))"
      ],
      "execution_count": 0,
      "outputs": []
    },
    {
      "metadata": {
        "id": "coQk3olxM-Oo",
        "colab_type": "code",
        "colab": {}
      },
      "cell_type": "code",
      "source": [
        "'''\n",
        "FINE TUNING: FREEZING FIRST 6 LAYERS AND FINE TUNING THE REMAINING LAYERS.\n",
        "\n",
        "for layer in vgg_conv.layers[:6]:\n",
        "  layer.trainable=False\n",
        "for layer in vgg_conv.layers:\n",
        "  print(layer,layer.trainable)\n",
        "'''\n",
        "featues_train=vgg_conv.predict(x_train)\n",
        "featues_test=vgg_conv.predict(x_test)"
      ],
      "execution_count": 0,
      "outputs": []
    },
    {
      "metadata": {
        "id": "uOR3qxmJZk4N",
        "colab_type": "code",
        "colab": {}
      },
      "cell_type": "code",
      "source": [
        "print(featues_train.shape)\n",
        "print(featues_test.shape)"
      ],
      "execution_count": 0,
      "outputs": []
    },
    {
      "metadata": {
        "id": "gUi2OtRckgYW",
        "colab_type": "code",
        "colab": {}
      },
      "cell_type": "code",
      "source": [
        "'''\n",
        "FROM SCRATCH\n",
        "\n",
        "model = Sequential() #model = sequential \n",
        "model.add(Conv2D(32, kernel_size=(3, 3),activation='relu',input_shape=(256,256,3)))#layer convolutional 2D\n",
        "model.add(MaxPooling2D(pool_size=(2,2))) #max pooling with stride (2,2)\n",
        "model.add(Conv2D(32, (3, 3), activation='relu')) #layer convolutional 2D\n",
        "model.add(MaxPooling2D(pool_size=(2,2))) #max pooling with stride (2,2)\n",
        "model.add(Dropout(0.25)) #delete neuron randomly while training and remain 75%\n",
        "model.add(Flatten()) #make layer flatten\n",
        "model.add(Dense(128, activation='relu')) #fully connected layer\n",
        "model.add(Dropout(0.5)) #delete neuron randomly and remain 50%\n",
        "model.add(Dense(21, activation='softmax')) #softmax works\n",
        "\n",
        "\n",
        "model.compile(loss='categorical_crossentropy',optimizer='adam',metrics=['accuracy']) #setting loss function and optimizer\n",
        "model.fit(x_train, y_train, batch_size=50, epochs=10, verbose=1, validation_data=(x_test, y_test)) #training with epochs 100, batch size = 50\n",
        "model.save(\"UCMerced_LandUse_Model.h5\")\n",
        "#model.load_weights(\"UCMerced_LandUse_Model.h5\")\n",
        "loss, acc = model.evaluate(x_test, y_test, verbose=0) #evaluate testing data and calculate loss and accuracy\n",
        "print('\\nTesting loss: {}, acc: {}\\n'.format(loss, acc))\n",
        "'''\n",
        "\n",
        "\n",
        "VGGNET AS FEATURE EXTRACTOR\n",
        "\n",
        "X_train=np.reshape(featues_train,(1785,32768))\n",
        "X_test=np.reshape(featues_test,(105,32768))\n",
        "model=Sequential()\n",
        "model.add(vgg_conv)\n",
        "model.add(Flatten())\n",
        "model.add(Dense(1024,input_dim=32768, activation='relu'))\n",
        "model.add(Dropout(0.5))\n",
        "model.add(Dense(512,input_dim=1024,activation='relu'))\n",
        "model.add(Dropout(0.4))\n",
        "model.add(Dense(256,input_dim=512,activation='relu'))\n",
        "model.add(Dropout(0.5))\n",
        "model.add(Dense(21, activation='softmax'))\n",
        "model.summary()"
      ],
      "execution_count": 0,
      "outputs": []
    },
    {
      "metadata": {
        "id": "Ea4EdjP_QLbP",
        "colab_type": "code",
        "colab": {}
      },
      "cell_type": "code",
      "source": [
        "model=load_model(\"UCMerced_LandUse_Model.h5\")\n",
        "model.compile(loss='categorical_crossentropy',optimizer='adam',metrics=['accuracy'])\n",
        "model.fit(X_train, y_train, batch_size=50, epochs=150, verbose=1, validation_data=(X_test, y_test))\n",
        "model.save(\"UCMerced_LandUse_Model.h5\")\n",
        "loss, acc = model.evaluate(X_test, y_test, verbose=0) #evaluate testing data and calculate loss and accuracy\n",
        "print('\\nTesting loss: {}, acc: {}\\n'.format(loss, acc))"
      ],
      "execution_count": 0,
      "outputs": []
    },
    {
      "metadata": {
        "id": "3JmacSDMkjMW",
        "colab_type": "code",
        "colab": {}
      },
      "cell_type": "code",
      "source": [
        "'''TESTING RANDOM IMAGE'''\n",
        "i=random.randint(1,104)\n",
        "img=x_test[i]\n",
        "test_img=np.reshape(img,(1,256,256,3))\n",
        "img_class=model.predict_classes(test_img)\n",
        "prediction=img_class[0]\n",
        "print(\"Prediction:\",prediction)\n",
        "print(\"Class Label:\",y_test[i])\n",
        "plt.imshow(img)\n",
        "plt.show()\n"
      ],
      "execution_count": 0,
      "outputs": []
    }
  ]
}